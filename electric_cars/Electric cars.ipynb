{
 "cells": [
  {
   "cell_type": "code",
   "execution_count": 1,
   "metadata": {},
   "outputs": [],
   "source": [
    "import os\n",
    "import pandas as pd\n",
    "import numpy as np\n"
   ]
  },
  {
   "cell_type": "code",
   "execution_count": 2,
   "metadata": {},
   "outputs": [
    {
     "data": {
      "text/html": [
       "<div>\n",
       "<style scoped>\n",
       "    .dataframe tbody tr th:only-of-type {\n",
       "        vertical-align: middle;\n",
       "    }\n",
       "\n",
       "    .dataframe tbody tr th {\n",
       "        vertical-align: top;\n",
       "    }\n",
       "\n",
       "    .dataframe thead th {\n",
       "        text-align: right;\n",
       "    }\n",
       "</style>\n",
       "<table border=\"1\" class=\"dataframe\">\n",
       "  <thead>\n",
       "    <tr style=\"text-align: right;\">\n",
       "      <th></th>\n",
       "      <th>Date</th>\n",
       "      <th>Zip Code</th>\n",
       "      <th>Model Year</th>\n",
       "      <th>Fuel</th>\n",
       "      <th>Make</th>\n",
       "      <th>Duty</th>\n",
       "      <th>Vehicles</th>\n",
       "    </tr>\n",
       "  </thead>\n",
       "  <tbody>\n",
       "    <tr>\n",
       "      <th>0</th>\n",
       "      <td>10/1/2018</td>\n",
       "      <td>90000</td>\n",
       "      <td>2006</td>\n",
       "      <td>Gasoline</td>\n",
       "      <td>OTHER/UNK</td>\n",
       "      <td>Light</td>\n",
       "      <td>1</td>\n",
       "    </tr>\n",
       "    <tr>\n",
       "      <th>1</th>\n",
       "      <td>10/1/2018</td>\n",
       "      <td>90000</td>\n",
       "      <td>2014</td>\n",
       "      <td>Gasoline</td>\n",
       "      <td>OTHER/UNK</td>\n",
       "      <td>Light</td>\n",
       "      <td>1</td>\n",
       "    </tr>\n",
       "    <tr>\n",
       "      <th>2</th>\n",
       "      <td>10/1/2018</td>\n",
       "      <td>90000</td>\n",
       "      <td>2016</td>\n",
       "      <td>Gasoline</td>\n",
       "      <td>OTHER/UNK</td>\n",
       "      <td>Light</td>\n",
       "      <td>1</td>\n",
       "    </tr>\n",
       "    <tr>\n",
       "      <th>3</th>\n",
       "      <td>10/1/2018</td>\n",
       "      <td>90000</td>\n",
       "      <td>2017</td>\n",
       "      <td>Gasoline</td>\n",
       "      <td>OTHER/UNK</td>\n",
       "      <td>Light</td>\n",
       "      <td>1</td>\n",
       "    </tr>\n",
       "    <tr>\n",
       "      <th>4</th>\n",
       "      <td>10/1/2018</td>\n",
       "      <td>90000</td>\n",
       "      <td>&lt;2006</td>\n",
       "      <td>Diesel and Diesel Hybrid</td>\n",
       "      <td>OTHER/UNK</td>\n",
       "      <td>Heavy</td>\n",
       "      <td>55</td>\n",
       "    </tr>\n",
       "  </tbody>\n",
       "</table>\n",
       "</div>"
      ],
      "text/plain": [
       "        Date  Zip Code Model Year                      Fuel       Make   Duty  \\\n",
       "0  10/1/2018     90000       2006                  Gasoline  OTHER/UNK  Light   \n",
       "1  10/1/2018     90000       2014                  Gasoline  OTHER/UNK  Light   \n",
       "2  10/1/2018     90000       2016                  Gasoline  OTHER/UNK  Light   \n",
       "3  10/1/2018     90000       2017                  Gasoline  OTHER/UNK  Light   \n",
       "4  10/1/2018     90000      <2006  Diesel and Diesel Hybrid  OTHER/UNK  Heavy   \n",
       "\n",
       "   Vehicles  \n",
       "0         1  \n",
       "1         1  \n",
       "2         1  \n",
       "3         1  \n",
       "4        55  "
      ]
     },
     "execution_count": 2,
     "metadata": {},
     "output_type": "execute_result"
    }
   ],
   "source": [
    "cars = os.path.join(\"..\",\"electric_cars\",\"vehicle-fuel-type-count-by-zip-code.csv\")\n",
    "geocodes_raw = os.path.join(\"..\",\"electric_cars\",\"fips_zip_x.csv\")\n",
    "cars_data = pd.read_csv(cars)\n",
    "geocodes = pd.read_csv(geocodes_raw)\n",
    "cars_data.head()"
   ]
  },
  {
   "cell_type": "code",
   "execution_count": 3,
   "metadata": {},
   "outputs": [
    {
     "data": {
      "text/plain": [
       "30411713"
      ]
     },
     "execution_count": 3,
     "metadata": {},
     "output_type": "execute_result"
    }
   ],
   "source": [
    "cars_data['Vehicles'].sum()"
   ]
  },
  {
   "cell_type": "code",
   "execution_count": 4,
   "metadata": {},
   "outputs": [
    {
     "data": {
      "text/plain": [
       "Unnamed: 0    int64\n",
       "ZCTA5         int64\n",
       "STATE         int64\n",
       "COUNTY        int64\n",
       "dtype: object"
      ]
     },
     "execution_count": 4,
     "metadata": {},
     "output_type": "execute_result"
    }
   ],
   "source": [
    "geocodes.dtypes\n",
    "#geocodes[\"Zip Code\"].astype(str)"
   ]
  },
  {
   "cell_type": "code",
   "execution_count": 5,
   "metadata": {},
   "outputs": [
    {
     "data": {
      "text/html": [
       "<div>\n",
       "<style scoped>\n",
       "    .dataframe tbody tr th:only-of-type {\n",
       "        vertical-align: middle;\n",
       "    }\n",
       "\n",
       "    .dataframe tbody tr th {\n",
       "        vertical-align: top;\n",
       "    }\n",
       "\n",
       "    .dataframe thead th {\n",
       "        text-align: right;\n",
       "    }\n",
       "</style>\n",
       "<table border=\"1\" class=\"dataframe\">\n",
       "  <thead>\n",
       "    <tr style=\"text-align: right;\">\n",
       "      <th></th>\n",
       "      <th>Unnamed: 0</th>\n",
       "      <th>ZCTA5</th>\n",
       "      <th>STATE</th>\n",
       "      <th>COUNTY</th>\n",
       "    </tr>\n",
       "  </thead>\n",
       "  <tbody>\n",
       "    <tr>\n",
       "      <th>0</th>\n",
       "      <td>40738</td>\n",
       "      <td>89010</td>\n",
       "      <td>6</td>\n",
       "      <td>51</td>\n",
       "    </tr>\n",
       "    <tr>\n",
       "      <th>1</th>\n",
       "      <td>40748</td>\n",
       "      <td>89019</td>\n",
       "      <td>6</td>\n",
       "      <td>27</td>\n",
       "    </tr>\n",
       "    <tr>\n",
       "      <th>2</th>\n",
       "      <td>40749</td>\n",
       "      <td>89019</td>\n",
       "      <td>6</td>\n",
       "      <td>71</td>\n",
       "    </tr>\n",
       "    <tr>\n",
       "      <th>3</th>\n",
       "      <td>40774</td>\n",
       "      <td>89060</td>\n",
       "      <td>6</td>\n",
       "      <td>27</td>\n",
       "    </tr>\n",
       "    <tr>\n",
       "      <th>4</th>\n",
       "      <td>40776</td>\n",
       "      <td>89061</td>\n",
       "      <td>6</td>\n",
       "      <td>27</td>\n",
       "    </tr>\n",
       "  </tbody>\n",
       "</table>\n",
       "</div>"
      ],
      "text/plain": [
       "   Unnamed: 0  ZCTA5  STATE  COUNTY\n",
       "0       40738  89010      6      51\n",
       "1       40748  89019      6      27\n",
       "2       40749  89019      6      71\n",
       "3       40774  89060      6      27\n",
       "4       40776  89061      6      27"
      ]
     },
     "execution_count": 5,
     "metadata": {},
     "output_type": "execute_result"
    }
   ],
   "source": [
    "geocodes.head()"
   ]
  },
  {
   "cell_type": "code",
   "execution_count": 6,
   "metadata": {},
   "outputs": [
    {
     "name": "stdout",
     "output_type": "stream",
     "text": [
      "['Gasoline' 'Diesel and Diesel Hybrid' 'Battery Electric' 'Other'\n",
      " 'Flex-Fuel' 'Hybrid Gasoline' 'Natural Gas' 'Plug-in Hybrid'\n",
      " 'Hydrogen Fuel Cell']\n"
     ]
    }
   ],
   "source": [
    "#num_schools=school_data_complete[\"school_name\"].nunique()\n",
    "cars_description = cars_data[\"Fuel\"].unique()\n",
    "print(cars_description)"
   ]
  },
  {
   "cell_type": "code",
   "execution_count": 7,
   "metadata": {},
   "outputs": [],
   "source": [
    "geocodes =geocodes.rename(columns={\"ZCTA5\":\"Zip Code\"})\n",
    "cars_data =cars_data.rename(columns={'Zip Code': 'Zip Code'})"
   ]
  },
  {
   "cell_type": "code",
   "execution_count": null,
   "metadata": {},
   "outputs": [],
   "source": []
  },
  {
   "cell_type": "code",
   "execution_count": null,
   "metadata": {},
   "outputs": [],
   "source": []
  },
  {
   "cell_type": "code",
   "execution_count": 8,
   "metadata": {},
   "outputs": [],
   "source": [
    "cars_merge_county = pd.merge(cars_data, geocodes, how=\"inner\", on=[\"Zip Code\"])"
   ]
  },
  {
   "cell_type": "code",
   "execution_count": 9,
   "metadata": {},
   "outputs": [
    {
     "data": {
      "text/html": [
       "<div>\n",
       "<style scoped>\n",
       "    .dataframe tbody tr th:only-of-type {\n",
       "        vertical-align: middle;\n",
       "    }\n",
       "\n",
       "    .dataframe tbody tr th {\n",
       "        vertical-align: top;\n",
       "    }\n",
       "\n",
       "    .dataframe thead th {\n",
       "        text-align: right;\n",
       "    }\n",
       "</style>\n",
       "<table border=\"1\" class=\"dataframe\">\n",
       "  <thead>\n",
       "    <tr style=\"text-align: right;\">\n",
       "      <th></th>\n",
       "      <th>Date</th>\n",
       "      <th>Zip Code</th>\n",
       "      <th>Model Year</th>\n",
       "      <th>Fuel</th>\n",
       "      <th>Make</th>\n",
       "      <th>Duty</th>\n",
       "      <th>Vehicles</th>\n",
       "      <th>Unnamed: 0</th>\n",
       "      <th>STATE</th>\n",
       "      <th>COUNTY</th>\n",
       "    </tr>\n",
       "  </thead>\n",
       "  <tbody>\n",
       "    <tr>\n",
       "      <th>0</th>\n",
       "      <td>10/1/2018</td>\n",
       "      <td>90001</td>\n",
       "      <td>2006</td>\n",
       "      <td>Diesel and Diesel Hybrid</td>\n",
       "      <td>FORD</td>\n",
       "      <td>Heavy</td>\n",
       "      <td>16</td>\n",
       "      <td>40937</td>\n",
       "      <td>6</td>\n",
       "      <td>37</td>\n",
       "    </tr>\n",
       "    <tr>\n",
       "      <th>1</th>\n",
       "      <td>10/1/2018</td>\n",
       "      <td>90001</td>\n",
       "      <td>2006</td>\n",
       "      <td>Diesel and Diesel Hybrid</td>\n",
       "      <td>OTHER/UNK</td>\n",
       "      <td>Heavy</td>\n",
       "      <td>23</td>\n",
       "      <td>40937</td>\n",
       "      <td>6</td>\n",
       "      <td>37</td>\n",
       "    </tr>\n",
       "    <tr>\n",
       "      <th>2</th>\n",
       "      <td>10/1/2018</td>\n",
       "      <td>90001</td>\n",
       "      <td>2006</td>\n",
       "      <td>Diesel and Diesel Hybrid</td>\n",
       "      <td>OTHER/UNK</td>\n",
       "      <td>Light</td>\n",
       "      <td>9</td>\n",
       "      <td>40937</td>\n",
       "      <td>6</td>\n",
       "      <td>37</td>\n",
       "    </tr>\n",
       "    <tr>\n",
       "      <th>3</th>\n",
       "      <td>10/1/2018</td>\n",
       "      <td>90001</td>\n",
       "      <td>2006</td>\n",
       "      <td>Battery Electric</td>\n",
       "      <td>OTHER/UNK</td>\n",
       "      <td>Light</td>\n",
       "      <td>1</td>\n",
       "      <td>40937</td>\n",
       "      <td>6</td>\n",
       "      <td>37</td>\n",
       "    </tr>\n",
       "    <tr>\n",
       "      <th>4</th>\n",
       "      <td>10/1/2018</td>\n",
       "      <td>90001</td>\n",
       "      <td>2006</td>\n",
       "      <td>Flex-Fuel</td>\n",
       "      <td>CHEVROLET</td>\n",
       "      <td>Light</td>\n",
       "      <td>41</td>\n",
       "      <td>40937</td>\n",
       "      <td>6</td>\n",
       "      <td>37</td>\n",
       "    </tr>\n",
       "  </tbody>\n",
       "</table>\n",
       "</div>"
      ],
      "text/plain": [
       "        Date  Zip Code Model Year                      Fuel       Make   Duty  \\\n",
       "0  10/1/2018     90001       2006  Diesel and Diesel Hybrid       FORD  Heavy   \n",
       "1  10/1/2018     90001       2006  Diesel and Diesel Hybrid  OTHER/UNK  Heavy   \n",
       "2  10/1/2018     90001       2006  Diesel and Diesel Hybrid  OTHER/UNK  Light   \n",
       "3  10/1/2018     90001       2006          Battery Electric  OTHER/UNK  Light   \n",
       "4  10/1/2018     90001       2006                 Flex-Fuel  CHEVROLET  Light   \n",
       "\n",
       "   Vehicles  Unnamed: 0  STATE  COUNTY  \n",
       "0        16       40937      6      37  \n",
       "1        23       40937      6      37  \n",
       "2         9       40937      6      37  \n",
       "3         1       40937      6      37  \n",
       "4        41       40937      6      37  "
      ]
     },
     "execution_count": 9,
     "metadata": {},
     "output_type": "execute_result"
    }
   ],
   "source": [
    "cars_merge_county\n",
    "cars = cars_merge_county.dropna()\n",
    "cars.head()"
   ]
  },
  {
   "cell_type": "code",
   "execution_count": 10,
   "metadata": {},
   "outputs": [
    {
     "data": {
      "text/html": [
       "<div>\n",
       "<style scoped>\n",
       "    .dataframe tbody tr th:only-of-type {\n",
       "        vertical-align: middle;\n",
       "    }\n",
       "\n",
       "    .dataframe tbody tr th {\n",
       "        vertical-align: top;\n",
       "    }\n",
       "\n",
       "    .dataframe thead th {\n",
       "        text-align: right;\n",
       "    }\n",
       "</style>\n",
       "<table border=\"1\" class=\"dataframe\">\n",
       "  <thead>\n",
       "    <tr style=\"text-align: right;\">\n",
       "      <th></th>\n",
       "      <th>Fuel</th>\n",
       "      <th>Vehicles</th>\n",
       "      <th>COUNTY</th>\n",
       "    </tr>\n",
       "  </thead>\n",
       "  <tbody>\n",
       "    <tr>\n",
       "      <th>0</th>\n",
       "      <td>Diesel and Diesel Hybrid</td>\n",
       "      <td>16</td>\n",
       "      <td>37</td>\n",
       "    </tr>\n",
       "    <tr>\n",
       "      <th>1</th>\n",
       "      <td>Diesel and Diesel Hybrid</td>\n",
       "      <td>23</td>\n",
       "      <td>37</td>\n",
       "    </tr>\n",
       "    <tr>\n",
       "      <th>2</th>\n",
       "      <td>Diesel and Diesel Hybrid</td>\n",
       "      <td>9</td>\n",
       "      <td>37</td>\n",
       "    </tr>\n",
       "    <tr>\n",
       "      <th>3</th>\n",
       "      <td>Battery Electric</td>\n",
       "      <td>1</td>\n",
       "      <td>37</td>\n",
       "    </tr>\n",
       "    <tr>\n",
       "      <th>4</th>\n",
       "      <td>Flex-Fuel</td>\n",
       "      <td>41</td>\n",
       "      <td>37</td>\n",
       "    </tr>\n",
       "  </tbody>\n",
       "</table>\n",
       "</div>"
      ],
      "text/plain": [
       "                       Fuel  Vehicles  COUNTY\n",
       "0  Diesel and Diesel Hybrid        16      37\n",
       "1  Diesel and Diesel Hybrid        23      37\n",
       "2  Diesel and Diesel Hybrid         9      37\n",
       "3          Battery Electric         1      37\n",
       "4                 Flex-Fuel        41      37"
      ]
     },
     "execution_count": 10,
     "metadata": {},
     "output_type": "execute_result"
    }
   ],
   "source": [
    "cars_cleaned = cars.drop(columns=['Date', 'Model Year', 'Make', 'Duty', 'Unnamed: 0', 'STATE', 'Zip Code'])\n",
    "cars_cleaned.head()\n"
   ]
  },
  {
   "cell_type": "code",
   "execution_count": 11,
   "metadata": {},
   "outputs": [
    {
     "name": "stdout",
     "output_type": "stream",
     "text": [
      "1118539\n"
     ]
    }
   ],
   "source": [
    "battery_electric = cars_cleaned[cars_cleaned['Fuel']==\"Battery Electric\"]\n",
    "plug_in = cars_cleaned[cars_cleaned['Fuel']==\"Plug-in Hybrid\"]\n",
    "hybrid = cars_cleaned[cars_cleaned['Fuel']=='Hybrid Gasoline']\n",
    "batt_car_total = battery_electric['Vehicles'].sum()\n",
    "hybrid_total=hybrid['Vehicles'].sum()\n",
    "plug_in_total = plug_in['Vehicles'].sum()\n",
    "print(hybrid_total)\n",
    "#cars['Vehicles'].sum()"
   ]
  },
  {
   "cell_type": "code",
   "execution_count": 16,
   "metadata": {},
   "outputs": [
    {
     "data": {
      "text/plain": [
       "COUNTY\n",
       "1       21857\n",
       "3         306\n",
       "5        1598\n",
       "7        4239\n",
       "9        2261\n",
       "11       1006\n",
       "13      19349\n",
       "15        621\n",
       "17       4189\n",
       "19      14688\n",
       "21        917\n",
       "23       4167\n",
       "25       3756\n",
       "27        951\n",
       "29      12273\n",
       "31       2571\n",
       "33       2318\n",
       "35       1290\n",
       "37     126521\n",
       "39       3007\n",
       "41       6576\n",
       "43       1316\n",
       "45       3483\n",
       "47       5788\n",
       "49        794\n",
       "51        886\n",
       "53       8394\n",
       "55       3008\n",
       "57       2591\n",
       "59      43273\n",
       "61       8176\n",
       "63       1401\n",
       "65      32252\n",
       "67      20688\n",
       "69       1730\n",
       "71      28775\n",
       "73      42682\n",
       "75       9583\n",
       "77      11917\n",
       "79       6919\n",
       "81      11593\n",
       "83       7595\n",
       "85      28109\n",
       "87       4779\n",
       "89       4233\n",
       "91        562\n",
       "93       2199\n",
       "95       6769\n",
       "97       9534\n",
       "99       8219\n",
       "101      2591\n",
       "103      2555\n",
       "105       897\n",
       "107      9034\n",
       "109      2185\n",
       "111     14279\n",
       "113      4562\n",
       "115      2311\n",
       "Name: Vehicles, dtype: int64"
      ]
     },
     "execution_count": 16,
     "metadata": {},
     "output_type": "execute_result"
    }
   ],
   "source": [
    "# vechicle count per county\n",
    "veh_per_cnty = cars_cleaned.groupby('COUNTY')['Vehicles'].count()\n",
    "veh_per_cnty"
   ]
  },
  {
   "cell_type": "code",
   "execution_count": 12,
   "metadata": {},
   "outputs": [
    {
     "name": "stdout",
     "output_type": "stream",
     "text": [
      "[ 37 111  59  71  65  73  25  27  83  31 107  29  19  53  69  79  51  39\n",
      "  43  47  81  85  75   1  55  13  95  97  67  41  87  77   9   3 109  99\n",
      "  45  33  23 105  15  93   5  57  61 113  17 101  11 115   7  91  63  21\n",
      " 103  89  35  49]\n"
     ]
    }
   ],
   "source": [
    "counties = cars_cleaned[\"COUNTY\"].unique()\n",
    "print(counties)"
   ]
  },
  {
   "cell_type": "code",
   "execution_count": 13,
   "metadata": {},
   "outputs": [
    {
     "data": {
      "text/html": [
       "<div>\n",
       "<style scoped>\n",
       "    .dataframe tbody tr th:only-of-type {\n",
       "        vertical-align: middle;\n",
       "    }\n",
       "\n",
       "    .dataframe tbody tr th {\n",
       "        vertical-align: top;\n",
       "    }\n",
       "\n",
       "    .dataframe thead th {\n",
       "        text-align: right;\n",
       "    }\n",
       "</style>\n",
       "<table border=\"1\" class=\"dataframe\">\n",
       "  <thead>\n",
       "    <tr style=\"text-align: right;\">\n",
       "      <th></th>\n",
       "      <th>Fuel</th>\n",
       "      <th>Vehicles</th>\n",
       "      <th>COUNTY</th>\n",
       "    </tr>\n",
       "  </thead>\n",
       "  <tbody>\n",
       "    <tr>\n",
       "      <th>0</th>\n",
       "      <td>Diesel and Diesel Hybrid</td>\n",
       "      <td>16</td>\n",
       "      <td>37</td>\n",
       "    </tr>\n",
       "    <tr>\n",
       "      <th>1</th>\n",
       "      <td>Diesel and Diesel Hybrid</td>\n",
       "      <td>23</td>\n",
       "      <td>37</td>\n",
       "    </tr>\n",
       "    <tr>\n",
       "      <th>2</th>\n",
       "      <td>Diesel and Diesel Hybrid</td>\n",
       "      <td>9</td>\n",
       "      <td>37</td>\n",
       "    </tr>\n",
       "    <tr>\n",
       "      <th>3</th>\n",
       "      <td>Battery Electric</td>\n",
       "      <td>1</td>\n",
       "      <td>37</td>\n",
       "    </tr>\n",
       "    <tr>\n",
       "      <th>4</th>\n",
       "      <td>Flex-Fuel</td>\n",
       "      <td>41</td>\n",
       "      <td>37</td>\n",
       "    </tr>\n",
       "    <tr>\n",
       "      <th>...</th>\n",
       "      <td>...</td>\n",
       "      <td>...</td>\n",
       "      <td>...</td>\n",
       "    </tr>\n",
       "    <tr>\n",
       "      <th>577459</th>\n",
       "      <td>Diesel and Diesel Hybrid</td>\n",
       "      <td>1</td>\n",
       "      <td>49</td>\n",
       "    </tr>\n",
       "    <tr>\n",
       "      <th>577460</th>\n",
       "      <td>Diesel and Diesel Hybrid</td>\n",
       "      <td>2</td>\n",
       "      <td>35</td>\n",
       "    </tr>\n",
       "    <tr>\n",
       "      <th>577461</th>\n",
       "      <td>Diesel and Diesel Hybrid</td>\n",
       "      <td>2</td>\n",
       "      <td>49</td>\n",
       "    </tr>\n",
       "    <tr>\n",
       "      <th>577462</th>\n",
       "      <td>Gasoline</td>\n",
       "      <td>15</td>\n",
       "      <td>35</td>\n",
       "    </tr>\n",
       "    <tr>\n",
       "      <th>577463</th>\n",
       "      <td>Gasoline</td>\n",
       "      <td>15</td>\n",
       "      <td>49</td>\n",
       "    </tr>\n",
       "  </tbody>\n",
       "</table>\n",
       "<p>290 rows × 3 columns</p>\n",
       "</div>"
      ],
      "text/plain": [
       "                            Fuel  Vehicles  COUNTY\n",
       "0       Diesel and Diesel Hybrid        16      37\n",
       "1       Diesel and Diesel Hybrid        23      37\n",
       "2       Diesel and Diesel Hybrid         9      37\n",
       "3               Battery Electric         1      37\n",
       "4                      Flex-Fuel        41      37\n",
       "...                          ...       ...     ...\n",
       "577459  Diesel and Diesel Hybrid         1      49\n",
       "577460  Diesel and Diesel Hybrid         2      35\n",
       "577461  Diesel and Diesel Hybrid         2      49\n",
       "577462                  Gasoline        15      35\n",
       "577463                  Gasoline        15      49\n",
       "\n",
       "[290 rows x 3 columns]"
      ]
     },
     "execution_count": 13,
     "metadata": {},
     "output_type": "execute_result"
    }
   ],
   "source": [
    "grouped_county = cars_cleaned.groupby(['COUNTY'])\n",
    "grouped_county.head()\n"
   ]
  },
  {
   "cell_type": "code",
   "execution_count": 14,
   "metadata": {},
   "outputs": [
    {
     "data": {
      "text/plain": [
       "32288952"
      ]
     },
     "execution_count": 14,
     "metadata": {},
     "output_type": "execute_result"
    }
   ],
   "source": [
    "cars['Vehicles'].sum()"
   ]
  },
  {
   "cell_type": "code",
   "execution_count": 15,
   "metadata": {},
   "outputs": [
    {
     "data": {
      "text/plain": [
       "584338"
      ]
     },
     "execution_count": 15,
     "metadata": {},
     "output_type": "execute_result"
    }
   ],
   "source": [
    "#cars data has 584338 observations\n",
    "#after merge there are 590123\n",
    "#there are an additional .98% observations\n",
    "\n",
    "len(cars_data)"
   ]
  },
  {
   "cell_type": "code",
   "execution_count": 29,
   "metadata": {},
   "outputs": [
    {
     "data": {
      "text/html": [
       "<div>\n",
       "<style scoped>\n",
       "    .dataframe tbody tr th:only-of-type {\n",
       "        vertical-align: middle;\n",
       "    }\n",
       "\n",
       "    .dataframe tbody tr th {\n",
       "        vertical-align: top;\n",
       "    }\n",
       "\n",
       "    .dataframe thead th {\n",
       "        text-align: right;\n",
       "    }\n",
       "</style>\n",
       "<table border=\"1\" class=\"dataframe\">\n",
       "  <thead>\n",
       "    <tr style=\"text-align: right;\">\n",
       "      <th></th>\n",
       "      <th>Fuel</th>\n",
       "      <th>Vehicles</th>\n",
       "      <th>COUNTY</th>\n",
       "    </tr>\n",
       "  </thead>\n",
       "  <tbody>\n",
       "    <tr>\n",
       "      <th>0</th>\n",
       "      <td>Diesel and Diesel Hybrid</td>\n",
       "      <td>16</td>\n",
       "      <td>37</td>\n",
       "    </tr>\n",
       "    <tr>\n",
       "      <th>1</th>\n",
       "      <td>Diesel and Diesel Hybrid</td>\n",
       "      <td>23</td>\n",
       "      <td>37</td>\n",
       "    </tr>\n",
       "    <tr>\n",
       "      <th>2</th>\n",
       "      <td>Diesel and Diesel Hybrid</td>\n",
       "      <td>9</td>\n",
       "      <td>37</td>\n",
       "    </tr>\n",
       "  </tbody>\n",
       "</table>\n",
       "</div>"
      ],
      "text/plain": [
       "                       Fuel  Vehicles  COUNTY\n",
       "0  Diesel and Diesel Hybrid        16      37\n",
       "1  Diesel and Diesel Hybrid        23      37\n",
       "2  Diesel and Diesel Hybrid         9      37"
      ]
     },
     "execution_count": 29,
     "metadata": {},
     "output_type": "execute_result"
    }
   ],
   "source": [
    "cars_cleaned.head(3)"
   ]
  },
  {
   "cell_type": "code",
   "execution_count": 26,
   "metadata": {},
   "outputs": [
    {
     "data": {
      "text/plain": [
       "32288952"
      ]
     },
     "execution_count": 26,
     "metadata": {},
     "output_type": "execute_result"
    }
   ],
   "source": [
    "total_vehicles = cars_cleaned['Vehicles'].sum()\n",
    "total_vehicles"
   ]
  },
  {
   "cell_type": "code",
   "execution_count": 27,
   "metadata": {},
   "outputs": [
    {
     "data": {
      "text/plain": [
       "Fuel\n",
       "Battery Electric              234313\n",
       "Diesel and Diesel Hybrid     1318442\n",
       "Flex-Fuel                    1324826\n",
       "Gasoline                    28032565\n",
       "Hybrid Gasoline              1118539\n",
       "Hydrogen Fuel Cell              5296\n",
       "Natural Gas                    33506\n",
       "Other                           7837\n",
       "Plug-in Hybrid                213628\n",
       "Name: Vehicles, dtype: int64"
      ]
     },
     "execution_count": 27,
     "metadata": {},
     "output_type": "execute_result"
    }
   ],
   "source": [
    "v_count_per_type = cars_cleaned.groupby('Fuel')['Vehicles'].sum()\n",
    "v_count_per_type"
   ]
  },
  {
   "cell_type": "code",
   "execution_count": 28,
   "metadata": {},
   "outputs": [
    {
     "data": {
      "text/plain": [
       "Fuel\n",
       "Battery Electric             0.725675\n",
       "Diesel and Diesel Hybrid     4.083260\n",
       "Flex-Fuel                    4.103032\n",
       "Gasoline                    86.817822\n",
       "Hybrid Gasoline              3.464154\n",
       "Hydrogen Fuel Cell           0.016402\n",
       "Natural Gas                  0.103769\n",
       "Other                        0.024271\n",
       "Plug-in Hybrid               0.661613\n",
       "Name: Vehicles, dtype: float64"
      ]
     },
     "execution_count": 28,
     "metadata": {},
     "output_type": "execute_result"
    }
   ],
   "source": [
    "v_pct_per_type = 100 * v_count_per_type / total_vehicles\n",
    "v_pct_per_type"
   ]
  },
  {
   "cell_type": "code",
   "execution_count": 32,
   "metadata": {},
   "outputs": [
    {
     "data": {
      "text/plain": [
       "COUNTY\n",
       "1     1271376\n",
       "3        6744\n",
       "5       43434\n",
       "7      201388\n",
       "9       56092\n",
       "11      22563\n",
       "13    1067055\n",
       "15      20285\n",
       "17     172562\n",
       "19     718957\n",
       "Name: Vehicles, dtype: int64"
      ]
     },
     "execution_count": 32,
     "metadata": {},
     "output_type": "execute_result"
    }
   ],
   "source": [
    "# Battery Elec % per County\n",
    "tot_v_per_county = cars_cleaned.groupby('COUNTY')['Vehicles'].sum()\n",
    "tot_v_per_county[:10]"
   ]
  },
  {
   "cell_type": "code",
   "execution_count": 35,
   "metadata": {},
   "outputs": [
    {
     "data": {
      "text/html": [
       "<div>\n",
       "<style scoped>\n",
       "    .dataframe tbody tr th:only-of-type {\n",
       "        vertical-align: middle;\n",
       "    }\n",
       "\n",
       "    .dataframe tbody tr th {\n",
       "        vertical-align: top;\n",
       "    }\n",
       "\n",
       "    .dataframe thead th {\n",
       "        text-align: right;\n",
       "    }\n",
       "</style>\n",
       "<table border=\"1\" class=\"dataframe\">\n",
       "  <thead>\n",
       "    <tr style=\"text-align: right;\">\n",
       "      <th></th>\n",
       "      <th>Fuel</th>\n",
       "      <th>Vehicles</th>\n",
       "      <th>COUNTY</th>\n",
       "    </tr>\n",
       "  </thead>\n",
       "  <tbody>\n",
       "    <tr>\n",
       "      <th>3</th>\n",
       "      <td>Battery Electric</td>\n",
       "      <td>1</td>\n",
       "      <td>37</td>\n",
       "    </tr>\n",
       "    <tr>\n",
       "      <th>65</th>\n",
       "      <td>Battery Electric</td>\n",
       "      <td>1</td>\n",
       "      <td>37</td>\n",
       "    </tr>\n",
       "    <tr>\n",
       "      <th>192</th>\n",
       "      <td>Battery Electric</td>\n",
       "      <td>1</td>\n",
       "      <td>37</td>\n",
       "    </tr>\n",
       "    <tr>\n",
       "      <th>220</th>\n",
       "      <td>Battery Electric</td>\n",
       "      <td>1</td>\n",
       "      <td>37</td>\n",
       "    </tr>\n",
       "    <tr>\n",
       "      <th>279</th>\n",
       "      <td>Battery Electric</td>\n",
       "      <td>1</td>\n",
       "      <td>37</td>\n",
       "    </tr>\n",
       "  </tbody>\n",
       "</table>\n",
       "</div>"
      ],
      "text/plain": [
       "                 Fuel  Vehicles  COUNTY\n",
       "3    Battery Electric         1      37\n",
       "65   Battery Electric         1      37\n",
       "192  Battery Electric         1      37\n",
       "220  Battery Electric         1      37\n",
       "279  Battery Electric         1      37"
      ]
     },
     "execution_count": 35,
     "metadata": {},
     "output_type": "execute_result"
    }
   ],
   "source": [
    "# Battery Elec df\n",
    "condition = cars_cleaned['Fuel'] == 'Battery Electric'\n",
    "be = cars_cleaned[condition]\n",
    "be[:5]"
   ]
  },
  {
   "cell_type": "code",
   "execution_count": 36,
   "metadata": {},
   "outputs": [
    {
     "data": {
      "text/plain": [
       "COUNTY\n",
       "1    19491\n",
       "3       12\n",
       "5       52\n",
       "7      276\n",
       "9       89\n",
       "Name: Vehicles, dtype: int64"
      ]
     },
     "execution_count": 36,
     "metadata": {},
     "output_type": "execute_result"
    }
   ],
   "source": [
    "be_count_per_county = be.groupby('COUNTY')['Vehicles'].sum()\n",
    "be_count_per_county[:5]"
   ]
  },
  {
   "cell_type": "code",
   "execution_count": 42,
   "metadata": {},
   "outputs": [
    {
     "data": {
      "text/html": [
       "<div>\n",
       "<style scoped>\n",
       "    .dataframe tbody tr th:only-of-type {\n",
       "        vertical-align: middle;\n",
       "    }\n",
       "\n",
       "    .dataframe tbody tr th {\n",
       "        vertical-align: top;\n",
       "    }\n",
       "\n",
       "    .dataframe thead th {\n",
       "        text-align: right;\n",
       "    }\n",
       "</style>\n",
       "<table border=\"1\" class=\"dataframe\">\n",
       "  <thead>\n",
       "    <tr style=\"text-align: right;\">\n",
       "      <th></th>\n",
       "      <th>Total Vehicles</th>\n",
       "    </tr>\n",
       "    <tr>\n",
       "      <th>COUNTY</th>\n",
       "      <th></th>\n",
       "    </tr>\n",
       "  </thead>\n",
       "  <tbody>\n",
       "    <tr>\n",
       "      <th>1</th>\n",
       "      <td>1271376</td>\n",
       "    </tr>\n",
       "    <tr>\n",
       "      <th>3</th>\n",
       "      <td>6744</td>\n",
       "    </tr>\n",
       "    <tr>\n",
       "      <th>5</th>\n",
       "      <td>43434</td>\n",
       "    </tr>\n",
       "    <tr>\n",
       "      <th>7</th>\n",
       "      <td>201388</td>\n",
       "    </tr>\n",
       "    <tr>\n",
       "      <th>9</th>\n",
       "      <td>56092</td>\n",
       "    </tr>\n",
       "  </tbody>\n",
       "</table>\n",
       "</div>"
      ],
      "text/plain": [
       "        Total Vehicles\n",
       "COUNTY                \n",
       "1              1271376\n",
       "3                 6744\n",
       "5                43434\n",
       "7               201388\n",
       "9                56092"
      ]
     },
     "execution_count": 42,
     "metadata": {},
     "output_type": "execute_result"
    }
   ],
   "source": [
    "df = pd.DataFrame(tot_v_per_county)\n",
    "df.rename(columns={'Vehicles':'Total Vehicles'}, inplace=True)\n",
    "df.head()"
   ]
  },
  {
   "cell_type": "code",
   "execution_count": 48,
   "metadata": {},
   "outputs": [
    {
     "data": {
      "text/html": [
       "<div>\n",
       "<style scoped>\n",
       "    .dataframe tbody tr th:only-of-type {\n",
       "        vertical-align: middle;\n",
       "    }\n",
       "\n",
       "    .dataframe tbody tr th {\n",
       "        vertical-align: top;\n",
       "    }\n",
       "\n",
       "    .dataframe thead th {\n",
       "        text-align: right;\n",
       "    }\n",
       "</style>\n",
       "<table border=\"1\" class=\"dataframe\">\n",
       "  <thead>\n",
       "    <tr style=\"text-align: right;\">\n",
       "      <th></th>\n",
       "      <th>Total Vehicles</th>\n",
       "      <th>Battery Vehicles</th>\n",
       "    </tr>\n",
       "    <tr>\n",
       "      <th>COUNTY</th>\n",
       "      <th></th>\n",
       "      <th></th>\n",
       "    </tr>\n",
       "  </thead>\n",
       "  <tbody>\n",
       "    <tr>\n",
       "      <th>1</th>\n",
       "      <td>1271376</td>\n",
       "      <td>19491.0</td>\n",
       "    </tr>\n",
       "    <tr>\n",
       "      <th>3</th>\n",
       "      <td>6744</td>\n",
       "      <td>12.0</td>\n",
       "    </tr>\n",
       "    <tr>\n",
       "      <th>5</th>\n",
       "      <td>43434</td>\n",
       "      <td>52.0</td>\n",
       "    </tr>\n",
       "    <tr>\n",
       "      <th>7</th>\n",
       "      <td>201388</td>\n",
       "      <td>276.0</td>\n",
       "    </tr>\n",
       "    <tr>\n",
       "      <th>9</th>\n",
       "      <td>56092</td>\n",
       "      <td>89.0</td>\n",
       "    </tr>\n",
       "  </tbody>\n",
       "</table>\n",
       "</div>"
      ],
      "text/plain": [
       "        Total Vehicles  Battery Vehicles\n",
       "COUNTY                                  \n",
       "1              1271376           19491.0\n",
       "3                 6744              12.0\n",
       "5                43434              52.0\n",
       "7               201388             276.0\n",
       "9                56092              89.0"
      ]
     },
     "execution_count": 48,
     "metadata": {},
     "output_type": "execute_result"
    }
   ],
   "source": [
    "df2 = df.join(be_count_per_county)\n",
    "df2.rename(columns={'Vehicles':'Battery Vehicles'}, inplace=True)\n",
    "df2.head()"
   ]
  },
  {
   "cell_type": "code",
   "execution_count": 51,
   "metadata": {},
   "outputs": [
    {
     "data": {
      "text/html": [
       "<div>\n",
       "<style scoped>\n",
       "    .dataframe tbody tr th:only-of-type {\n",
       "        vertical-align: middle;\n",
       "    }\n",
       "\n",
       "    .dataframe tbody tr th {\n",
       "        vertical-align: top;\n",
       "    }\n",
       "\n",
       "    .dataframe thead th {\n",
       "        text-align: right;\n",
       "    }\n",
       "</style>\n",
       "<table border=\"1\" class=\"dataframe\">\n",
       "  <thead>\n",
       "    <tr style=\"text-align: right;\">\n",
       "      <th></th>\n",
       "      <th>Total Vehicles</th>\n",
       "      <th>Battery Vehicles</th>\n",
       "      <th>Batter Pct</th>\n",
       "    </tr>\n",
       "    <tr>\n",
       "      <th>COUNTY</th>\n",
       "      <th></th>\n",
       "      <th></th>\n",
       "      <th></th>\n",
       "    </tr>\n",
       "  </thead>\n",
       "  <tbody>\n",
       "    <tr>\n",
       "      <th>1</th>\n",
       "      <td>1271376</td>\n",
       "      <td>19491.0</td>\n",
       "      <td>1.533063</td>\n",
       "    </tr>\n",
       "    <tr>\n",
       "      <th>3</th>\n",
       "      <td>6744</td>\n",
       "      <td>12.0</td>\n",
       "      <td>0.177936</td>\n",
       "    </tr>\n",
       "    <tr>\n",
       "      <th>5</th>\n",
       "      <td>43434</td>\n",
       "      <td>52.0</td>\n",
       "      <td>0.119722</td>\n",
       "    </tr>\n",
       "    <tr>\n",
       "      <th>7</th>\n",
       "      <td>201388</td>\n",
       "      <td>276.0</td>\n",
       "      <td>0.137049</td>\n",
       "    </tr>\n",
       "    <tr>\n",
       "      <th>9</th>\n",
       "      <td>56092</td>\n",
       "      <td>89.0</td>\n",
       "      <td>0.158668</td>\n",
       "    </tr>\n",
       "  </tbody>\n",
       "</table>\n",
       "</div>"
      ],
      "text/plain": [
       "        Total Vehicles  Battery Vehicles  Batter Pct\n",
       "COUNTY                                              \n",
       "1              1271376           19491.0    1.533063\n",
       "3                 6744              12.0    0.177936\n",
       "5                43434              52.0    0.119722\n",
       "7               201388             276.0    0.137049\n",
       "9                56092              89.0    0.158668"
      ]
     },
     "execution_count": 51,
     "metadata": {},
     "output_type": "execute_result"
    }
   ],
   "source": [
    "df2['Batter Pct'] = df2['Battery Vehicles'] / df2['Total Vehicles'] * 100\n",
    "df2.head()"
   ]
  },
  {
   "cell_type": "code",
   "execution_count": 53,
   "metadata": {},
   "outputs": [
    {
     "data": {
      "text/plain": [
       "COUNTY\n",
       "1    13535\n",
       "3       10\n",
       "5       77\n",
       "7      350\n",
       "9      103\n",
       "Name: Plug-in Vechicles, dtype: int64"
      ]
     },
     "execution_count": 53,
     "metadata": {},
     "output_type": "execute_result"
    }
   ],
   "source": [
    "# do same for Plug in Hybrid\n",
    "condition = cars_cleaned['Fuel'] == 'Plug-in Hybrid'\n",
    "plugin = cars_cleaned[condition]\n",
    "plugin_count_per_county = plugin.groupby('COUNTY')['Vehicles'].sum()\n",
    "plugin_count_per_county.name = 'Plug-in Vechicles'\n",
    "plugin_count_per_county[:5]"
   ]
  },
  {
   "cell_type": "code",
   "execution_count": 56,
   "metadata": {},
   "outputs": [
    {
     "data": {
      "text/html": [
       "<div>\n",
       "<style scoped>\n",
       "    .dataframe tbody tr th:only-of-type {\n",
       "        vertical-align: middle;\n",
       "    }\n",
       "\n",
       "    .dataframe tbody tr th {\n",
       "        vertical-align: top;\n",
       "    }\n",
       "\n",
       "    .dataframe thead th {\n",
       "        text-align: right;\n",
       "    }\n",
       "</style>\n",
       "<table border=\"1\" class=\"dataframe\">\n",
       "  <thead>\n",
       "    <tr style=\"text-align: right;\">\n",
       "      <th></th>\n",
       "      <th>Total Vehicles</th>\n",
       "      <th>Battery Vehicles</th>\n",
       "      <th>Batter Pct</th>\n",
       "      <th>Plug-in Vechicles</th>\n",
       "    </tr>\n",
       "    <tr>\n",
       "      <th>COUNTY</th>\n",
       "      <th></th>\n",
       "      <th></th>\n",
       "      <th></th>\n",
       "      <th></th>\n",
       "    </tr>\n",
       "  </thead>\n",
       "  <tbody>\n",
       "    <tr>\n",
       "      <th>1</th>\n",
       "      <td>1271376</td>\n",
       "      <td>19491.0</td>\n",
       "      <td>1.533063</td>\n",
       "      <td>13535</td>\n",
       "    </tr>\n",
       "    <tr>\n",
       "      <th>3</th>\n",
       "      <td>6744</td>\n",
       "      <td>12.0</td>\n",
       "      <td>0.177936</td>\n",
       "      <td>10</td>\n",
       "    </tr>\n",
       "    <tr>\n",
       "      <th>5</th>\n",
       "      <td>43434</td>\n",
       "      <td>52.0</td>\n",
       "      <td>0.119722</td>\n",
       "      <td>77</td>\n",
       "    </tr>\n",
       "    <tr>\n",
       "      <th>7</th>\n",
       "      <td>201388</td>\n",
       "      <td>276.0</td>\n",
       "      <td>0.137049</td>\n",
       "      <td>350</td>\n",
       "    </tr>\n",
       "    <tr>\n",
       "      <th>9</th>\n",
       "      <td>56092</td>\n",
       "      <td>89.0</td>\n",
       "      <td>0.158668</td>\n",
       "      <td>103</td>\n",
       "    </tr>\n",
       "  </tbody>\n",
       "</table>\n",
       "</div>"
      ],
      "text/plain": [
       "        Total Vehicles  Battery Vehicles  Batter Pct  Plug-in Vechicles\n",
       "COUNTY                                                                 \n",
       "1              1271376           19491.0    1.533063              13535\n",
       "3                 6744              12.0    0.177936                 10\n",
       "5                43434              52.0    0.119722                 77\n",
       "7               201388             276.0    0.137049                350\n",
       "9                56092              89.0    0.158668                103"
      ]
     },
     "execution_count": 56,
     "metadata": {},
     "output_type": "execute_result"
    }
   ],
   "source": [
    "df3.head()"
   ]
  },
  {
   "cell_type": "code",
   "execution_count": 61,
   "metadata": {},
   "outputs": [
    {
     "data": {
      "text/html": [
       "<div>\n",
       "<style scoped>\n",
       "    .dataframe tbody tr th:only-of-type {\n",
       "        vertical-align: middle;\n",
       "    }\n",
       "\n",
       "    .dataframe tbody tr th {\n",
       "        vertical-align: top;\n",
       "    }\n",
       "\n",
       "    .dataframe thead th {\n",
       "        text-align: right;\n",
       "    }\n",
       "</style>\n",
       "<table border=\"1\" class=\"dataframe\">\n",
       "  <thead>\n",
       "    <tr style=\"text-align: right;\">\n",
       "      <th></th>\n",
       "      <th>Total Vehicles</th>\n",
       "      <th>Battery Vehicles</th>\n",
       "      <th>Batter Pct</th>\n",
       "      <th>Plug-in Vechicles</th>\n",
       "      <th>Plug-in Pct</th>\n",
       "    </tr>\n",
       "    <tr>\n",
       "      <th>COUNTY</th>\n",
       "      <th></th>\n",
       "      <th></th>\n",
       "      <th></th>\n",
       "      <th></th>\n",
       "      <th></th>\n",
       "    </tr>\n",
       "  </thead>\n",
       "  <tbody>\n",
       "    <tr>\n",
       "      <th>1</th>\n",
       "      <td>1271376</td>\n",
       "      <td>19491.0</td>\n",
       "      <td>1.533063</td>\n",
       "      <td>13535</td>\n",
       "      <td>1.064595</td>\n",
       "    </tr>\n",
       "    <tr>\n",
       "      <th>3</th>\n",
       "      <td>6744</td>\n",
       "      <td>12.0</td>\n",
       "      <td>0.177936</td>\n",
       "      <td>10</td>\n",
       "      <td>0.148280</td>\n",
       "    </tr>\n",
       "    <tr>\n",
       "      <th>5</th>\n",
       "      <td>43434</td>\n",
       "      <td>52.0</td>\n",
       "      <td>0.119722</td>\n",
       "      <td>77</td>\n",
       "      <td>0.177280</td>\n",
       "    </tr>\n",
       "    <tr>\n",
       "      <th>7</th>\n",
       "      <td>201388</td>\n",
       "      <td>276.0</td>\n",
       "      <td>0.137049</td>\n",
       "      <td>350</td>\n",
       "      <td>0.173794</td>\n",
       "    </tr>\n",
       "    <tr>\n",
       "      <th>9</th>\n",
       "      <td>56092</td>\n",
       "      <td>89.0</td>\n",
       "      <td>0.158668</td>\n",
       "      <td>103</td>\n",
       "      <td>0.183627</td>\n",
       "    </tr>\n",
       "  </tbody>\n",
       "</table>\n",
       "</div>"
      ],
      "text/plain": [
       "        Total Vehicles  Battery Vehicles  Batter Pct  Plug-in Vechicles  \\\n",
       "COUNTY                                                                    \n",
       "1              1271376           19491.0    1.533063              13535   \n",
       "3                 6744              12.0    0.177936                 10   \n",
       "5                43434              52.0    0.119722                 77   \n",
       "7               201388             276.0    0.137049                350   \n",
       "9                56092              89.0    0.158668                103   \n",
       "\n",
       "        Plug-in Pct  \n",
       "COUNTY               \n",
       "1          1.064595  \n",
       "3          0.148280  \n",
       "5          0.177280  \n",
       "7          0.173794  \n",
       "9          0.183627  "
      ]
     },
     "execution_count": 61,
     "metadata": {},
     "output_type": "execute_result"
    }
   ],
   "source": [
    "df3 = df2.join(plugin_count_per_county)\n",
    "df3['Plug-in Pct'] = df3['Plug-in Vechicles'] / df3['Total Vehicles'] * 100\n",
    "df3.head()"
   ]
  },
  {
   "cell_type": "code",
   "execution_count": 64,
   "metadata": {},
   "outputs": [
    {
     "data": {
      "text/plain": [
       "COUNTY\n",
       "1    66423\n",
       "3      111\n",
       "5      749\n",
       "7     4551\n",
       "9     1030\n",
       "Name: Hybrid Gas Vechicles, dtype: int64"
      ]
     },
     "execution_count": 64,
     "metadata": {},
     "output_type": "execute_result"
    }
   ],
   "source": [
    "# do same for Hybrid Gasoline\n",
    "condition = cars_cleaned['Fuel'] == 'Hybrid Gasoline'\n",
    "hg = cars_cleaned[condition]\n",
    "hg_count_per_county = hg.groupby('COUNTY')['Vehicles'].sum()\n",
    "hg_count_per_county.name = 'Hybrid Gas Vechicles'\n",
    "hg_count_per_county[:5]"
   ]
  },
  {
   "cell_type": "code",
   "execution_count": 65,
   "metadata": {},
   "outputs": [
    {
     "data": {
      "text/html": [
       "<div>\n",
       "<style scoped>\n",
       "    .dataframe tbody tr th:only-of-type {\n",
       "        vertical-align: middle;\n",
       "    }\n",
       "\n",
       "    .dataframe tbody tr th {\n",
       "        vertical-align: top;\n",
       "    }\n",
       "\n",
       "    .dataframe thead th {\n",
       "        text-align: right;\n",
       "    }\n",
       "</style>\n",
       "<table border=\"1\" class=\"dataframe\">\n",
       "  <thead>\n",
       "    <tr style=\"text-align: right;\">\n",
       "      <th></th>\n",
       "      <th>Total Vehicles</th>\n",
       "      <th>Battery Vehicles</th>\n",
       "      <th>Batter Pct</th>\n",
       "      <th>Plug-in Vechicles</th>\n",
       "      <th>Plug-in Pct</th>\n",
       "      <th>Hybrid Gas Vechicles</th>\n",
       "      <th>Hybrid Gas Pct</th>\n",
       "    </tr>\n",
       "    <tr>\n",
       "      <th>COUNTY</th>\n",
       "      <th></th>\n",
       "      <th></th>\n",
       "      <th></th>\n",
       "      <th></th>\n",
       "      <th></th>\n",
       "      <th></th>\n",
       "      <th></th>\n",
       "    </tr>\n",
       "  </thead>\n",
       "  <tbody>\n",
       "    <tr>\n",
       "      <th>1</th>\n",
       "      <td>1271376</td>\n",
       "      <td>19491.0</td>\n",
       "      <td>1.533063</td>\n",
       "      <td>13535</td>\n",
       "      <td>1.064595</td>\n",
       "      <td>66423</td>\n",
       "      <td>5.224497</td>\n",
       "    </tr>\n",
       "    <tr>\n",
       "      <th>3</th>\n",
       "      <td>6744</td>\n",
       "      <td>12.0</td>\n",
       "      <td>0.177936</td>\n",
       "      <td>10</td>\n",
       "      <td>0.148280</td>\n",
       "      <td>111</td>\n",
       "      <td>1.645907</td>\n",
       "    </tr>\n",
       "    <tr>\n",
       "      <th>5</th>\n",
       "      <td>43434</td>\n",
       "      <td>52.0</td>\n",
       "      <td>0.119722</td>\n",
       "      <td>77</td>\n",
       "      <td>0.177280</td>\n",
       "      <td>749</td>\n",
       "      <td>1.724455</td>\n",
       "    </tr>\n",
       "    <tr>\n",
       "      <th>7</th>\n",
       "      <td>201388</td>\n",
       "      <td>276.0</td>\n",
       "      <td>0.137049</td>\n",
       "      <td>350</td>\n",
       "      <td>0.173794</td>\n",
       "      <td>4551</td>\n",
       "      <td>2.259817</td>\n",
       "    </tr>\n",
       "    <tr>\n",
       "      <th>9</th>\n",
       "      <td>56092</td>\n",
       "      <td>89.0</td>\n",
       "      <td>0.158668</td>\n",
       "      <td>103</td>\n",
       "      <td>0.183627</td>\n",
       "      <td>1030</td>\n",
       "      <td>1.836269</td>\n",
       "    </tr>\n",
       "  </tbody>\n",
       "</table>\n",
       "</div>"
      ],
      "text/plain": [
       "        Total Vehicles  Battery Vehicles  Batter Pct  Plug-in Vechicles  \\\n",
       "COUNTY                                                                    \n",
       "1              1271376           19491.0    1.533063              13535   \n",
       "3                 6744              12.0    0.177936                 10   \n",
       "5                43434              52.0    0.119722                 77   \n",
       "7               201388             276.0    0.137049                350   \n",
       "9                56092              89.0    0.158668                103   \n",
       "\n",
       "        Plug-in Pct  Hybrid Gas Vechicles  Hybrid Gas Pct  \n",
       "COUNTY                                                     \n",
       "1          1.064595                 66423        5.224497  \n",
       "3          0.148280                   111        1.645907  \n",
       "5          0.177280                   749        1.724455  \n",
       "7          0.173794                  4551        2.259817  \n",
       "9          0.183627                  1030        1.836269  "
      ]
     },
     "execution_count": 65,
     "metadata": {},
     "output_type": "execute_result"
    }
   ],
   "source": [
    "df4 = df3.join(hg_count_per_county)\n",
    "df4['Hybrid Gas Pct'] = df4['Hybrid Gas Vechicles'] / df4['Total Vehicles'] * 100\n",
    "df4.head()"
   ]
  },
  {
   "cell_type": "code",
   "execution_count": null,
   "metadata": {},
   "outputs": [],
   "source": []
  }
 ],
 "metadata": {
  "kernelspec": {
   "display_name": "Python 3",
   "language": "python",
   "name": "python3"
  },
  "language_info": {
   "codemirror_mode": {
    "name": "ipython",
    "version": 3
   },
   "file_extension": ".py",
   "mimetype": "text/x-python",
   "name": "python",
   "nbconvert_exporter": "python",
   "pygments_lexer": "ipython3",
   "version": "3.7.5"
  }
 },
 "nbformat": 4,
 "nbformat_minor": 2
}
